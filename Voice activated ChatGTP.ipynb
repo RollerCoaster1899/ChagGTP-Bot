{
 "cells": [
  {
   "cell_type": "code",
   "execution_count": null,
   "id": "61846741-a0d6-4112-a15e-bc65b5671d70",
   "metadata": {},
   "outputs": [],
   "source": [
    "# Import the libraries"
   ]
  },
  {
   "cell_type": "code",
   "execution_count": 1,
   "id": "96f4fbcd-7247-4010-96f6-4019d022c3af",
   "metadata": {},
   "outputs": [],
   "source": [
    "!pip install pygame\n",
    "!pip install openai\n",
    "\n",
    "from IPython.display import clear_output\n",
    "import speech_recognition as sr\n",
    "import pyttsx3\n",
    "import gradio as gr\n",
    "from gtts import gTTS\n",
    "import pygame\n",
    "import openai\n",
    "import os\n",
    "\n",
    "clear_output()"
   ]
  },
  {
   "cell_type": "code",
   "execution_count": null,
   "id": "70962d75-5ecd-440d-a376-dfbb7f5c9163",
   "metadata": {},
   "outputs": [],
   "source": [
    "# Put OpenIA Credentials"
   ]
  },
  {
   "cell_type": "code",
   "execution_count": 2,
   "id": "600d7639-ee20-4497-bfce-7351475d49ed",
   "metadata": {},
   "outputs": [],
   "source": [
    "API_KEY = 'YOUR_API_KEY'\n",
    "openai.api_key = API_KEY\n",
    "clear_output()"
   ]
  },
  {
   "cell_type": "code",
   "execution_count": 3,
   "id": "697daba0-8a00-48a0-b752-0a0c1fc942eb",
   "metadata": {},
   "outputs": [],
   "source": [
    "#Create listener instance\n",
    "listener = sr.Recognizer()\n",
    "\n",
    "#Function to convert from voice to speeech\n",
    "def take_command():\n",
    "    r = sr.Recognizer()\n",
    "    with sr.Microphone() as source:\n",
    "        print('Listening...')\n",
    "        r.pause_threshold = 1\n",
    "        audio = r.listen(source)\n",
    "    try:\n",
    "        print('Recognizing...')\n",
    "        command = r.recognize_google(audio, language='es-ES')\n",
    "        print(f'Tu dijiste: {command}\\n')\n",
    "    except:\n",
    "        print('Una disculpa, no te pude escuchar.')\n",
    "        command = None\n",
    "    return command\n",
    "\n",
    "# Function to respond if \"Alexa\" is fount at command\n",
    "def respond(command):\n",
    "    messages = [{\"role\": \"system\", \"content\": 'You are a robotic asistant. Respond to all input in maximum 100 words or less.'}]\n",
    "    message = command\n",
    "    if message:\n",
    "        messages.append(\n",
    "            {\"role\": \"user\", \"content\": message})\n",
    "        chat = openai.ChatCompletion.create(\n",
    "            model=\"gpt-3.5-turbo\", messages=messages)\n",
    "    chat_transcript = chat.choices[0].message.content\n",
    "    print(f\"ChatGPT: {chat_transcript}\")\n",
    "    messages.append({\"role\": \"assistant\", \"content\": chat_transcript})\n",
    "\n",
    "    # Crear y guardar audio\n",
    "    text = chat_transcript\n",
    "    tts = gTTS(text=text, lang='es')\n",
    "    tts.save(\"Response.mp3\")\n",
    "\n",
    "    # Leer el audio\n",
    "    pygame.mixer.init()\n",
    "    pygame.mixer.music.load(\"Response.mp3\")\n",
    "    pygame.mixer.music.play()\n",
    "\n",
    "# Function to listen and respond\n",
    "def run_alexa():\n",
    "    command = take_command()\n",
    "    clear_output()\n",
    "    if command is not None:\n",
    "        if \"Alexa\" in command:\n",
    "            respond(command)\n",
    " \n",
    "#while True:\n",
    "#    run_alexa()"
   ]
  }
 ],
 "metadata": {
  "kernelspec": {
   "display_name": "Python 3 (ipykernel)",
   "language": "python",
   "name": "python3"
  },
  "language_info": {
   "codemirror_mode": {
    "name": "ipython",
    "version": 3
   },
   "file_extension": ".py",
   "mimetype": "text/x-python",
   "name": "python",
   "nbconvert_exporter": "python",
   "pygments_lexer": "ipython3",
   "version": "3.9.13"
  }
 },
 "nbformat": 4,
 "nbformat_minor": 5
}
